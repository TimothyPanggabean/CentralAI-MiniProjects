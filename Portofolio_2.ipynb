{
  "nbformat": 4,
  "nbformat_minor": 0,
  "metadata": {
    "colab": {
      "provenance": [],
      "authorship_tag": "ABX9TyNjulLRVKxAc9yh8varKh5Y",
      "include_colab_link": true
    },
    "kernelspec": {
      "name": "python3",
      "display_name": "Python 3"
    },
    "language_info": {
      "name": "python"
    }
  },
  "cells": [
    {
      "cell_type": "markdown",
      "metadata": {
        "id": "view-in-github",
        "colab_type": "text"
      },
      "source": [
        "<a href=\"https://colab.research.google.com/github/TimothyPanggabean/CentralAI-MiniProjects/blob/main/Portofolio_Course_2.ipynb\" target=\"_parent\"><img src=\"https://colab.research.google.com/assets/colab-badge.svg\" alt=\"Open In Colab\"/></a>"
      ]
    },
    {
      "cell_type": "code",
      "execution_count": null,
      "metadata": {
        "id": "HUcJwttUBJno",
        "colab": {
          "base_uri": "https://localhost:8080/"
        },
        "outputId": "c7805754-d493-4596-efe0-acf1dc58ce1a"
      },
      "outputs": [
        {
          "output_type": "stream",
          "name": "stdout",
          "text": [
            "Masukkan nilai input: 6\n",
            "Faktorial dari 6 adalah: 720\n"
          ]
        }
      ],
      "source": [
        "def faktorial(x):\n",
        "   if x == 1:\n",
        "       return x\n",
        "   else:\n",
        "       return x*faktorial(x-1)\n",
        "\n",
        "x=int(input(\"Masukkan nilai input: \"))\n",
        "print(\"Faktorial dari {} adalah: {}\".format(x, faktorial(x)))"
      ]
    },
    {
      "cell_type": "code",
      "source": [
        "def faktor_bilangan(x):\n",
        "   list_faktor=[]\n",
        "   for i in range(1, x + 1):\n",
        "       if x % i == 0:\n",
        "           list_faktor.append(i)\n",
        "   return list_faktor\n",
        "\n",
        "x=int(input(\"Masukkan nilai input: \"))\n",
        "print(\"Faktor dari {} adalah: {}\".format(x, faktor_bilangan(x)))"
      ],
      "metadata": {
        "colab": {
          "base_uri": "https://localhost:8080/"
        },
        "id": "_CY2brifdu3p",
        "outputId": "999d84f7-277a-4ea7-ed32-6a5a8ce8f95c"
      },
      "execution_count": null,
      "outputs": [
        {
          "output_type": "stream",
          "name": "stdout",
          "text": [
            "Masukkan nilai input: 20\n",
            "Faktor dari 20 adalah: [1, 2, 4, 5, 10, 20]\n"
          ]
        }
      ]
    }
  ]
}
